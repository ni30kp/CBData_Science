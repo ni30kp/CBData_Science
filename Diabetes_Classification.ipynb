{
  "nbformat": 4,
  "nbformat_minor": 0,
  "metadata": {
    "colab": {
      "name": "Diabetes-Classification.ipynb",
      "provenance": [],
      "collapsed_sections": [],
      "authorship_tag": "ABX9TyO8B6sWtNzohyqDPnJBIPtl",
      "include_colab_link": true
    },
    "kernelspec": {
      "name": "python3",
      "display_name": "Python 3"
    }
  },
  "cells": [
    {
      "cell_type": "markdown",
      "metadata": {
        "id": "view-in-github",
        "colab_type": "text"
      },
      "source": [
        "<a href=\"https://colab.research.google.com/github/ni30kp/CBData_Science/blob/main/Diabetes_Classification.ipynb\" target=\"_parent\"><img src=\"https://colab.research.google.com/assets/colab-badge.svg\" alt=\"Open In Colab\"/></a>"
      ]
    },
    {
      "cell_type": "code",
      "metadata": {
        "id": "XLQW558X7K1s"
      },
      "source": [
        "import numpy as np\r\n",
        "import pandas as pd\r\n",
        "import matplotlib.pyplot as plt\r\n",
        "from sklearn.preprocessing import MinMaxScaler\r\n",
        "from sklearn.preprocessing import RobustScaler\r\n",
        "from sklearn.preprocessing import StandardScaler"
      ],
      "execution_count": 1,
      "outputs": []
    },
    {
      "cell_type": "code",
      "metadata": {
        "id": "zLssmj2J7S9t"
      },
      "source": [
        "dfx = pd.read_csv('train.csv')\r\n",
        "df_test = pd.read_csv('test.csv')"
      ],
      "execution_count": 2,
      "outputs": []
    },
    {
      "cell_type": "code",
      "metadata": {
        "id": "hFzqVysa83EQ"
      },
      "source": [
        "rename_train = {'p_id': 'p_id', 'no_times_pregnant': 'Pregnancies', 'glucose_concentration': 'Glucose', 'skin_fold_thickness': 'SkinThickness',\r\n",
        "         'blood_pressure': 'BloodPressure', 'serum_insulin': 'Insulin', 'bmi': 'BMI', 'diabetes pedigree': 'DiabetesPedigreeFunction',\r\n",
        "         'age': 'Age', 'diabetes': 'Label'}\r\n",
        "\r\n",
        "rename_test = {'p_id': 'p_id', 'no_times_pregnant': 'Pregnancies', 'glucose_concentration': 'Glucose', 'skin_fold_thickness': 'SkinThickness',\r\n",
        "         'blood_pressure': 'BloodPressure', 'serum_insulin': 'Insulin', 'bmi': 'BMI', 'diabetes pedigree': 'DiabetesPedigreeFunction',\r\n",
        "         'age': 'Age'}"
      ],
      "execution_count": 3,
      "outputs": []
    },
    {
      "cell_type": "code",
      "metadata": {
        "id": "GjXzdSbv_JdT"
      },
      "source": [
        "\r\n",
        "dfx.rename(columns=rename_train, inplace=True)\r\n",
        "df_test.rename(columns=rename_test, inplace=True)\r\n",
        "dfy = dfx.Label\r\n",
        "dfx.drop(columns='Label', inplace=True)\r\n"
      ],
      "execution_count": 4,
      "outputs": []
    },
    {
      "cell_type": "code",
      "metadata": {
        "id": "6XTirC9W_KdD"
      },
      "source": [
        "features_NaN = [['Glucose', 'BloodPressure', 'SkinThickness', 'Insulin', 'BMI']]\r\n",
        "\r\n",
        "for feature in features_NaN:\r\n",
        "    dfx[feature] = dfx[feature].replace(0, np.NaN)\r\n",
        "    df_test[feature] = df_test[feature].replace(0, np.NaN)"
      ],
      "execution_count": 5,
      "outputs": []
    },
    {
      "cell_type": "code",
      "metadata": {
        "id": "fjPBCUoL_Nlz"
      },
      "source": [
        "dfx['Glucose'].fillna(dfx['Glucose'].mean(), inplace=True)\r\n",
        "dfx['BloodPressure'].fillna(dfx['BloodPressure'].mean(), inplace=True)\r\n",
        "dfx['SkinThickness'].fillna(dfx['SkinThickness'].median(), inplace=True)\r\n",
        "dfx['Insulin'].fillna(dfx['Insulin'].median(), inplace=True)\r\n",
        "dfx['BMI'].fillna(dfx['BMI'].median(), inplace=True)"
      ],
      "execution_count": 6,
      "outputs": []
    },
    {
      "cell_type": "code",
      "metadata": {
        "id": "IaSZ9mHJ_QaI"
      },
      "source": [
        "df_test['Glucose'].fillna(dfx['Glucose'].mean(), inplace=True)\r\n",
        "df_test['BloodPressure'].fillna(dfx['BloodPressure'].mean(), inplace=True)\r\n",
        "df_test['SkinThickness'].fillna(dfx['SkinThickness'].median(), inplace=True)\r\n",
        "df_test['Insulin'].fillna(dfx['Insulin'].median(), inplace=True)\r\n",
        "df_test['BMI'].fillna(dfx['BMI'].median(), inplace=True)"
      ],
      "execution_count": 7,
      "outputs": []
    },
    {
      "cell_type": "code",
      "metadata": {
        "id": "l0iK7nGa_S7C"
      },
      "source": [
        "features = [['Pregnancies', 'Glucose', 'BloodPressure', 'SkinThickness', 'Insulin', 'BMI', 'DiabetesPedigreeFunction', 'Age']]\r\n",
        "scaler = StandardScaler()\r\n",
        "\r\n",
        "for feature in features:\r\n",
        "    dfx[feature] = scaler.fit_transform(dfx[feature])\r\n",
        "    df_test[feature] = scaler.fit_transform(df_test[feature])\r\n"
      ],
      "execution_count": 8,
      "outputs": []
    },
    {
      "cell_type": "code",
      "metadata": {
        "id": "X54bhsqH_VEH"
      },
      "source": [
        "dfx.drop(['SkinThickness'], axis=1, inplace=True)\r\n",
        "df_test.drop(['SkinThickness'], axis=1, inplace=True)"
      ],
      "execution_count": 9,
      "outputs": []
    },
    {
      "cell_type": "code",
      "metadata": {
        "colab": {
          "base_uri": "https://localhost:8080/",
          "height": 204
        },
        "id": "KP6fKh8t_XlC",
        "outputId": "a896dc46-a3ef-49db-9b84-e5bd079a1ec0"
      },
      "source": [
        "dfx.head()"
      ],
      "execution_count": 10,
      "outputs": [
        {
          "output_type": "execute_result",
          "data": {
            "text/html": [
              "<div>\n",
              "<style scoped>\n",
              "    .dataframe tbody tr th:only-of-type {\n",
              "        vertical-align: middle;\n",
              "    }\n",
              "\n",
              "    .dataframe tbody tr th {\n",
              "        vertical-align: top;\n",
              "    }\n",
              "\n",
              "    .dataframe thead th {\n",
              "        text-align: right;\n",
              "    }\n",
              "</style>\n",
              "<table border=\"1\" class=\"dataframe\">\n",
              "  <thead>\n",
              "    <tr style=\"text-align: right;\">\n",
              "      <th></th>\n",
              "      <th>p_id</th>\n",
              "      <th>Pregnancies</th>\n",
              "      <th>Glucose</th>\n",
              "      <th>BloodPressure</th>\n",
              "      <th>Insulin</th>\n",
              "      <th>BMI</th>\n",
              "      <th>DiabetesPedigreeFunction</th>\n",
              "      <th>Age</th>\n",
              "    </tr>\n",
              "  </thead>\n",
              "  <tbody>\n",
              "    <tr>\n",
              "      <th>0</th>\n",
              "      <td>316</td>\n",
              "      <td>-0.552371</td>\n",
              "      <td>-0.314638</td>\n",
              "      <td>-0.367839</td>\n",
              "      <td>-0.534037</td>\n",
              "      <td>0.243011</td>\n",
              "      <td>-0.457475</td>\n",
              "      <td>-0.614583</td>\n",
              "    </tr>\n",
              "    <tr>\n",
              "      <th>1</th>\n",
              "      <td>25</td>\n",
              "      <td>2.129880</td>\n",
              "      <td>0.730471</td>\n",
              "      <td>1.794964</td>\n",
              "      <td>0.050693</td>\n",
              "      <td>0.607040</td>\n",
              "      <td>-0.641865</td>\n",
              "      <td>1.482759</td>\n",
              "    </tr>\n",
              "    <tr>\n",
              "      <th>2</th>\n",
              "      <td>710</td>\n",
              "      <td>-0.552371</td>\n",
              "      <td>-0.955189</td>\n",
              "      <td>-0.700578</td>\n",
              "      <td>0.208121</td>\n",
              "      <td>0.810897</td>\n",
              "      <td>0.627706</td>\n",
              "      <td>-0.866264</td>\n",
              "    </tr>\n",
              "    <tr>\n",
              "      <th>3</th>\n",
              "      <td>658</td>\n",
              "      <td>-0.850399</td>\n",
              "      <td>-0.044933</td>\n",
              "      <td>0.630378</td>\n",
              "      <td>0.657914</td>\n",
              "      <td>0.941948</td>\n",
              "      <td>2.102825</td>\n",
              "      <td>0.643822</td>\n",
              "    </tr>\n",
              "    <tr>\n",
              "      <th>4</th>\n",
              "      <td>542</td>\n",
              "      <td>-0.254343</td>\n",
              "      <td>0.224773</td>\n",
              "      <td>-0.035100</td>\n",
              "      <td>0.545465</td>\n",
              "      <td>-0.004530</td>\n",
              "      <td>0.249857</td>\n",
              "      <td>-0.530689</td>\n",
              "    </tr>\n",
              "  </tbody>\n",
              "</table>\n",
              "</div>"
            ],
            "text/plain": [
              "   p_id  Pregnancies   Glucose  ...       BMI  DiabetesPedigreeFunction       Age\n",
              "0   316    -0.552371 -0.314638  ...  0.243011                 -0.457475 -0.614583\n",
              "1    25     2.129880  0.730471  ...  0.607040                 -0.641865  1.482759\n",
              "2   710    -0.552371 -0.955189  ...  0.810897                  0.627706 -0.866264\n",
              "3   658    -0.850399 -0.044933  ...  0.941948                  2.102825  0.643822\n",
              "4   542    -0.254343  0.224773  ... -0.004530                  0.249857 -0.530689\n",
              "\n",
              "[5 rows x 8 columns]"
            ]
          },
          "metadata": {
            "tags": []
          },
          "execution_count": 10
        }
      ]
    },
    {
      "cell_type": "code",
      "metadata": {
        "id": "oaAdL8pG_ZtW"
      },
      "source": [
        "pids = df_test['p_id']\r\n"
      ],
      "execution_count": 11,
      "outputs": []
    },
    {
      "cell_type": "code",
      "metadata": {
        "id": "E41iWlKX_dPP"
      },
      "source": [
        "X_train = dfx.values\r\n",
        "Y_train = dfy.values\r\n",
        "X_test = df_test.values\r\n",
        "pids = pids.values"
      ],
      "execution_count": 12,
      "outputs": []
    },
    {
      "cell_type": "code",
      "metadata": {
        "id": "dOKQPvN9_fjf"
      },
      "source": [
        "def hypothesis(x, w, b):\r\n",
        "    # This function will take input vector x, weight vector w, bias b and return the hypothesis or predicted value\r\n",
        "    \r\n",
        "    hx = np.dot(x,w)+b\r\n",
        "    return sigmoid(hx)\r\n",
        "\r\n",
        "def sigmoid(z):\r\n",
        "    sig = 1.0/(1.0 + np.exp(-1.0*z))\r\n",
        "    return sig\r\n",
        "\r\n",
        "def error(Y_train, X_train, w, b):\r\n",
        "    \r\n",
        "    err = 0.0\r\n",
        "    m = X_train.shape[0]\r\n",
        "    \r\n",
        "    for i in range(m):\r\n",
        "        \r\n",
        "        x = X_train[i]\r\n",
        "        y = Y_train[i]\r\n",
        "        hx = hypothesis(x, w, b)\r\n",
        "        err += y*np.log2(hx) + (1-y)*np.log2(1-hx)\r\n",
        "    \r\n",
        "    err = -1.0*err\r\n",
        "        \r\n",
        "    return err/m\r\n",
        "\r\n",
        "def gradient(Y_train, X_train, w, b):\r\n",
        "    \r\n",
        "    m = X_train.shape[0]\r\n",
        "    grad_w = np.zeros(w.shape)\r\n",
        "    grad_b = 0.0\r\n",
        "    \r\n",
        "    for i in range(m):\r\n",
        "        hx = hypothesis(X_train[i], w, b)\r\n",
        "        grad_w += (Y_train[i]-hx)*X_train[i]\r\n",
        "        grad_b += Y_train[i]-hx\r\n",
        "        \r\n",
        "    grad_w /= m\r\n",
        "    grad_b /= m\r\n",
        "    \r\n",
        "    return [grad_w, grad_b]\r\n",
        "\r\n",
        "def gradient_ascent(Y_train, X_train, w, b, max_iter=1000, learning_rate=0.1):\r\n",
        "    \r\n",
        "    error_list = []\r\n",
        "    \r\n",
        "    for i in range(max_iter):\r\n",
        "        \r\n",
        "        err = error(Y_train, X_train, w, b)\r\n",
        "        error_list.append(err)\r\n",
        "        [grad_w, grad_b] = gradient(Y_train, X_train, w, b)\r\n",
        "        w = w + learning_rate*grad_w\r\n",
        "        b = b + learning_rate*grad_b\r\n",
        "        \r\n",
        "    return error_list, w, b\r\n",
        "\r\n",
        "def predictions(X_test, w, b):\r\n",
        "    \r\n",
        "    confidence = hypothesis(X_test, w, b)\r\n",
        "    Y_pred = []\r\n",
        "    \r\n",
        "    for val in confidence:\r\n",
        "        if val<0.5:\r\n",
        "            Y_pred.append(0)\r\n",
        "        else:\r\n",
        "            Y_pred.append(1)\r\n",
        "            \r\n",
        "    return Y_pred"
      ],
      "execution_count": 13,
      "outputs": []
    },
    {
      "cell_type": "code",
      "metadata": {
        "id": "TEH0mLdI_kmx"
      },
      "source": [
        "## Initialize the Weight vectors and call the function\r\n",
        "\r\n",
        "W = 2*np.random.random(((X_train.shape[1]-1),))\r\n",
        "B = 5*np.random.random()\r\n",
        "\r\n",
        "error_list, w, b = gradient_ascent(Y_train, X_train[:,1:], W, B)"
      ],
      "execution_count": 14,
      "outputs": []
    },
    {
      "cell_type": "code",
      "metadata": {
        "colab": {
          "base_uri": "https://localhost:8080/",
          "height": 279
        },
        "id": "HVYE0tRe_nK0",
        "outputId": "635c0968-c5ae-4ff5-efb7-08243200d6c5"
      },
      "source": [
        "## Plot the loss function -> Error\r\n",
        "## This indicates that the loss has significantly decreased over time\r\n",
        "\r\n",
        "plt.plot(error_list)\r\n",
        "plt.xlabel('No.of Iterations')\r\n",
        "plt.ylabel('Loss = Negative of Log Likelihood')\r\n",
        "plt.show()"
      ],
      "execution_count": 15,
      "outputs": [
        {
          "output_type": "display_data",
          "data": {
            "image/png": "[encoded data removed]",
            "text/plain": [
              "<Figure size 432x288 with 1 Axes>"
            ]
          },
          "metadata": {
            "tags": [],
            "needs_background": "light"
          }
        }
      ]
    },
    {
      "cell_type": "code",
      "metadata": {
        "id": "f7kzPNIa_ruH"
      },
      "source": [
        "pred = predictions(X_test[:, 1:], w, b)"
      ],
      "execution_count": 16,
      "outputs": []
    },
    {
      "cell_type": "code",
      "metadata": {
        "colab": {
          "base_uri": "https://localhost:8080/"
        },
        "id": "C2HUpEve_uyz",
        "outputId": "5b81f627-59d1-4af1-f994-210726bb9cc3"
      },
      "source": [
        "output = pd.DataFrame({'pids': pids, 'diabetes': pred})\r\n",
        "output.to_csv('my_submission_lr.csv', index=False)\r\n",
        "print(\"Your submission was successfully Done!\")"
      ],
      "execution_count": 18,
      "outputs": [
        {
          "output_type": "stream",
          "text": [
            "Your submission was successfully Done!\n"
          ],
          "name": "stdout"
        }
      ]
    },
    {
      "cell_type": "code",
      "metadata": {
        "id": "chAMk6S-_0Pt"
      },
      "source": [
        ""
      ],
      "execution_count": null,
      "outputs": []
    },
    {
      "cell_type": "code",
      "metadata": {
        "id": "lps52oRJEfQe"
      },
      "source": [
        ""
      ],
      "execution_count": null,
      "outputs": []
    }
  ]
}